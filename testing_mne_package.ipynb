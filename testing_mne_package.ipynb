{
 "cells": [
  {
   "cell_type": "markdown",
   "metadata": {},
   "source": [
    "Sigrid's testing markdown"
   ]
  },
  {
   "cell_type": "code",
   "execution_count": 1,
   "metadata": {},
   "outputs": [
    {
     "name": "stderr",
     "output_type": "stream",
     "text": [
      "/Users/sigridagersnapbomnielsen/opt/anaconda3/lib/python3.9/site-packages/nilearn/datasets/__init__.py:93: FutureWarning: Fetchers from the nilearn.datasets module will be updated in version 0.9 to return python strings instead of bytes and Pandas dataframes instead of Numpy arrays.\n",
      "  warn(\"Fetchers from the nilearn.datasets module will be \"\n",
      "/Users/sigridagersnapbomnielsen/opt/anaconda3/lib/python3.9/site-packages/nilearn/glm/__init__.py:55: FutureWarning: The nilearn.glm module is experimental. It may change in any future release of Nilearn.\n",
      "  warn('The nilearn.glm module is experimental. '\n"
     ]
    },
    {
     "data": {
      "text/html": [
       "\n",
       "            <div id=\"dhfvrS\"></div>\n",
       "            <script type=\"text/javascript\" data-lets-plot-script=\"library\">\n",
       "                if(!window.letsPlotCallQueue) {\n",
       "                    window.letsPlotCallQueue = [];\n",
       "                }; \n",
       "                window.letsPlotCall = function(f) {\n",
       "                    window.letsPlotCallQueue.push(f);\n",
       "                };\n",
       "                (function() {\n",
       "                    var script = document.createElement(\"script\");\n",
       "                    script.type = \"text/javascript\";\n",
       "                    script.src = \"https://cdn.jsdelivr.net/gh/JetBrains/lets-plot@v2.2.0/js-package/distr/lets-plot.min.js\";\n",
       "                    script.onload = function() {\n",
       "                        window.letsPlotCall = function(f) {f();};\n",
       "                        window.letsPlotCallQueue.forEach(function(f) {f();});\n",
       "                        window.letsPlotCallQueue = [];\n",
       "                        \n",
       "                    };\n",
       "                    script.onerror = function(event) {\n",
       "                        window.letsPlotCall = function(f) {};    // noop\n",
       "                        window.letsPlotCallQueue = [];\n",
       "                        var div = document.createElement(\"div\");\n",
       "                        div.style.color = 'darkred';\n",
       "                        div.textContent = 'Error loading Lets-Plot JS';\n",
       "                        document.getElementById(\"dhfvrS\").appendChild(div);\n",
       "                    };\n",
       "                    var e = document.getElementById(\"dhfvrS\");\n",
       "                    e.appendChild(script);\n",
       "                })()\n",
       "            </script>\n",
       "            "
      ]
     },
     "metadata": {},
     "output_type": "display_data"
    },
    {
     "name": "stdout",
     "output_type": "stream",
     "text": [
      "packages have been imported\n"
     ]
    }
   ],
   "source": [
    "# Import relevant libraries\n",
    "import os #computer stuff\n",
    "import numpy as np\n",
    "import matplotlib.pyplot as plt #plots\n",
    "import pandas as pd #to work with datasets\n",
    "from zipfile import ZipFile\n",
    "import os\n",
    "\n",
    "import mne\n",
    "import mne_nirs\n",
    "\n",
    "# Import StatsModels\n",
    "import statsmodels.formula.api as smf\n",
    "import tqdm\n",
    "\n",
    "\n",
    "from mne_nirs.experimental_design import make_first_level_design_matrix #making design matrices\n",
    "from mne_nirs.statistics import run_glm #making ocntrasts\n",
    "from mne_nirs.statistics import statsmodels_to_results\n",
    "from mne_nirs.visualisation import plot_glm_group_topo\n",
    "from mne_nirs.visualisation import plot_glm_surface_projection\n",
    "from mne_nirs.channels import (get_long_channels, \n",
    "                               get_short_channels,\n",
    "                               picks_pair_to_idx) \n",
    "from mne.preprocessing.nirs import optical_density, beer_lambert_law\n",
    "\n",
    "from nilearn.plotting import plot_design_matrix #another project before mne nirs, they are using it for plotting design matrices\n",
    "\n",
    "from itertools import compress #for loops, iterations in general\n",
    "from icecream import ic #like \"print\"\n",
    "\n",
    "# Import MNE-BIDS processing\n",
    "from mne_bids import BIDSPath, read_raw_bids, get_entity_vals\n",
    "\n",
    "import matplotlib as mpl\n",
    "from lets_plot import *\n",
    "LetsPlot.setup_html()\n",
    "\n",
    "from plotnine import ggplot, aes, geom_line, geom_point, facet_grid, geom_hline\n",
    "import surfer\n",
    "\n",
    "print('packages have been imported')"
   ]
  },
  {
   "cell_type": "markdown",
   "metadata": {},
   "source": [
    "Testing function from here: https://mne.tools/dev/auto_tutorials/intro/10_overview.html"
   ]
  },
  {
   "cell_type": "code",
   "execution_count": null,
   "metadata": {},
   "outputs": [],
   "source": []
  },
  {
   "cell_type": "markdown",
   "metadata": {},
   "source": []
  }
 ],
 "metadata": {
  "interpreter": {
   "hash": "9100b2c6dbb077513545e4e21952f7dd4f79dc8df47bdbd07f168e4d2a0286d1"
  },
  "kernelspec": {
   "display_name": "Python 3.9.7 64-bit ('base': conda)",
   "language": "python",
   "name": "python3"
  },
  "language_info": {
   "codemirror_mode": {
    "name": "ipython",
    "version": 3
   },
   "file_extension": ".py",
   "mimetype": "text/x-python",
   "name": "python",
   "nbconvert_exporter": "python",
   "pygments_lexer": "ipython3",
   "version": "3.9.7"
  },
  "orig_nbformat": 4
 },
 "nbformat": 4,
 "nbformat_minor": 2
}
